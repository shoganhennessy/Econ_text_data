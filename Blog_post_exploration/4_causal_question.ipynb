{
 "cells": [
  {
   "cell_type": "code",
   "execution_count": 1,
   "metadata": {
    "hide_input": false
   },
   "outputs": [
    {
     "name": "stdout",
     "output_type": "stream",
     "text": [
      "20/01/2020\n"
     ]
    }
   ],
   "source": [
    "# jupyter nbextension enable python-markdown/main\n",
    "import numpy as np\n",
    "import pandas as pd\n",
    "import matplotlib.pyplot as plt\n",
    "import seaborn as sns\n",
    "sns.set(style='darkgrid')\n",
    "from datetime import date\n",
    "date_today = date.today().strftime('%d/%m/%Y')\n",
    "print(date_today)"
   ]
  },
  {
   "cell_type": "markdown",
   "metadata": {
    "variables": {
     " print(date_today) ": "20/01/2020",
     "-print(date_today)-": "<p><strong>SyntaxError</strong>: invalid syntax (<ipython-input-2-73edad742d09>, line 1)</p>\n"
    }
   },
   "source": [
    "# Publishing and Appointment, a Causal Exercise\n",
    "### Senan Hogan-Hennessy, {{print(date_today)}} "
   ]
  },
  {
   "cell_type": "markdown",
   "metadata": {},
   "source": [
    "I have been reading a fair amount on statistics causal approaches recently,\n",
    "and thought it would be agood opportunity to document a research question\n",
    "in economics with a more statistics approach.\n",
    "\n",
    "\n",
    "Re-read and references these papers and blog posts:\n",
    "\n",
    "https://p-hunermund.com/2017/10/25/econometrics-and-the-not-invented-here-syndrome-suggestive-evidence-from-the-causal-graph-literature/#more-4512\n",
    "\n",
    "https://www.nber.org/papers/w19453\n",
    "\n",
    "Reflections on Heckman and Pinto's Causal Analysis After Haavelmo\n",
    "Judea Pearl 2013\n",
    "\n",
    "https://p-hunermund.com/2018/06/09/no-free-lunch-in-causal-inference/#more-4858\n",
    "\n",
    "Read this to create the causal graph.\n",
    "https://networkx.github.io/documentation/stable/index.html \n",
    "\n",
    "Causal implemtation, using a causal graph and data as input.\n",
    "https://microsoft.github.io/dowhy/ \n",
    "\n",
    "\n",
    "\n",
    "Read first :\n",
    "https://towardsdatascience.com/jupyter-notebook-in-visual-studio-code-3fc21a36fe43\n"
   ]
  },
  {
   "cell_type": "code",
   "execution_count": null,
   "metadata": {},
   "outputs": [],
   "source": []
  }
 ],
 "metadata": {
  "kernelspec": {
   "display_name": "Python 3",
   "language": "python",
   "name": "python3"
  },
  "language_info": {
   "codemirror_mode": {
    "name": "ipython",
    "version": 3
   },
   "file_extension": ".py",
   "mimetype": "text/x-python",
   "name": "python",
   "nbconvert_exporter": "python",
   "pygments_lexer": "ipython3",
   "version": "3.7.4"
  },
  "latex_envs": {
   "LaTeX_envs_menu_present": true,
   "autoclose": true,
   "autocomplete": true,
   "bibliofile": "biblio.bib",
   "cite_by": "apalike",
   "current_citInitial": 1,
   "eqLabelWithNumbers": true,
   "eqNumInitial": 1,
   "hotkeys": {
    "equation": "Ctrl-E",
    "itemize": "Ctrl-I"
   },
   "labels_anchors": false,
   "latex_user_defs": false,
   "report_style_numbering": false,
   "user_envs_cfg": false
  }
 },
 "nbformat": 4,
 "nbformat_minor": 2
}